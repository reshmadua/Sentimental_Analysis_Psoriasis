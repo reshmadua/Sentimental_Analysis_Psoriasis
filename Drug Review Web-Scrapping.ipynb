{
 "cells": [
  {
   "cell_type": "markdown",
   "id": "772a1e51",
   "metadata": {},
   "source": [
    "<center><h1>Drug Review Web-Scrapping</h1></center>"
   ]
  },
  {
   "cell_type": "markdown",
   "id": "9bdef179",
   "metadata": {},
   "source": [
    "Data Extracted from : https://www.drugs.com/condition/psoriasis.html"
   ]
  },
  {
   "cell_type": "code",
   "execution_count": 1,
   "id": "f0371348",
   "metadata": {},
   "outputs": [],
   "source": [
    "from bs4 import BeautifulSoup as bs\n",
    "import requests\n",
    "import re\n",
    "import pandas as pd\n",
    "import numpy as np"
   ]
  },
  {
   "cell_type": "markdown",
   "id": "8da806ac",
   "metadata": {},
   "source": [
    "### Automating the Scrapping Process"
   ]
  },
  {
   "cell_type": "code",
   "execution_count": 13,
   "id": "e264becb",
   "metadata": {},
   "outputs": [],
   "source": [
    "def get_review(block_soup):\n",
    "    review = block_soup.find_all('p')\n",
    "    for i in range(len(review)):\n",
    "        temp = review[i].get_text()\n",
    "        start = temp.index('“')+1\n",
    "        end = temp.index('”')\n",
    "        review[i]=temp[start:end]\n",
    "    return review"
   ]
  },
  {
   "cell_type": "markdown",
   "id": "9d37ba3c",
   "metadata": {},
   "source": [
    "### 1. Clobetasol"
   ]
  },
  {
   "cell_type": "code",
   "execution_count": 14,
   "id": "d1e9669c",
   "metadata": {},
   "outputs": [
    {
     "name": "stdout",
     "output_type": "stream",
     "text": [
      "new len of reviews: 66 and new length of med_name: 66\n"
     ]
    }
   ],
   "source": [
    "# Clobetasol review collection\n",
    "reviews = []\n",
    "med_name = []\n",
    "count = 0\n",
    "clobetasol_links = [\"https://www.drugs.com/comments/clobetasol-topical/for-psoriasis.html\",\n",
    "                   \"https://www.drugs.com/comments/clobetasol-topical/for-psoriasis.html?page=2\",\n",
    "                   \"https://www.drugs.com/comments/clobetasol-topical/for-psoriasis.html?page=3\"]\n",
    "for i in range(len(clobetasol_links)):\n",
    "    page = requests.get(clobetasol_links[i])\n",
    "    soup = bs(page.content, 'html.parser')\n",
    "\n",
    "    block = soup.find_all('div', class_='ddc-comment ddc-box ddc-mgb-2')\n",
    "    block_soup = bs(str(block), 'html.parser')\n",
    "    temp = get_review(block_soup)\n",
    "    count += len(temp)\n",
    "    reviews.extend(temp)\n",
    "\n",
    "reviews\n",
    "med_name.extend(['clobetasol']*count)\n",
    "print('new len of reviews: {} and new length of med_name: {}'.format(len(reviews), len(med_name)))"
   ]
  },
  {
   "cell_type": "markdown",
   "id": "b53d9e42",
   "metadata": {},
   "source": [
    "### 2. Humira"
   ]
  },
  {
   "cell_type": "code",
   "execution_count": 15,
   "id": "6f39510e",
   "metadata": {},
   "outputs": [
    {
     "name": "stdout",
     "output_type": "stream",
     "text": [
      "new len of reviews: 178 and new length of med_name: 178\n"
     ]
    }
   ],
   "source": [
    "# Humira review collection\n",
    "count = 0 \n",
    "humira_links = [\"https://www.drugs.com/comments/adalimumab/humira-for-psoriasis.html\",\n",
    "                \"https://www.drugs.com/comments/adalimumab/humira-for-psoriasis.html?page=2\",\n",
    "                \"https://www.drugs.com/comments/adalimumab/humira-for-psoriasis.html?page=3\",\n",
    "                \"https://www.drugs.com/comments/adalimumab/humira-for-psoriasis.html?page=4\",\n",
    "                \"https://www.drugs.com/comments/adalimumab/humira-for-psoriasis.html?page=5\"]\n",
    "\n",
    "for i in range(len(humira_links)):\n",
    "    page = requests.get(humira_links[i])\n",
    "    soup = bs(page.content, 'html.parser')\n",
    "\n",
    "    block = soup.find_all('div', class_='ddc-comment ddc-box ddc-mgb-2')\n",
    "    block_soup = bs(str(block), 'html.parser')\n",
    "    temp = get_review(block_soup)\n",
    "    count += len(temp)\n",
    "    reviews.extend(temp)\n",
    "reviews\n",
    "med_name.extend(['humira']*count)\n",
    "print('new len of reviews: {} and new length of med_name: {}'.format(len(reviews), len(med_name)))"
   ]
  },
  {
   "cell_type": "markdown",
   "id": "924c9d7d",
   "metadata": {},
   "source": [
    "### 3. Stelara"
   ]
  },
  {
   "cell_type": "code",
   "execution_count": 16,
   "id": "abf986f4",
   "metadata": {},
   "outputs": [
    {
     "name": "stdout",
     "output_type": "stream",
     "text": [
      "new len of reviews: 303 and new length of med_name: 303\n"
     ]
    }
   ],
   "source": [
    "# Stelara review collection\n",
    "count = 0 \n",
    "links = [\"https://www.drugs.com/comments/ustekinumab/stelara-for-psoriasis.html\",\n",
    "         \"https://www.drugs.com/comments/ustekinumab/stelara-for-psoriasis.html?page=2\",\n",
    "         \"https://www.drugs.com/comments/ustekinumab/stelara-for-psoriasis.html?page=3\",\n",
    "         \"https://www.drugs.com/comments/ustekinumab/stelara-for-psoriasis.html?page=4\",\n",
    "         \"https://www.drugs.com/comments/ustekinumab/stelara-for-psoriasis.html?page=5\",\n",
    "         \"https://www.drugs.com/comments/ustekinumab/stelara-for-psoriasis.html?page=6\",]\n",
    "\n",
    "for i in range(len(links)):\n",
    "    page = requests.get(links[i])\n",
    "    soup = bs(page.content, 'html.parser')\n",
    "\n",
    "    block = soup.find_all('div', class_='ddc-comment ddc-box ddc-mgb-2')\n",
    "    block_soup = bs(str(block), 'html.parser')\n",
    "    temp = get_review(block_soup)\n",
    "    count += len(temp)\n",
    "    reviews.extend(temp)\n",
    "reviews\n",
    "med_name.extend(['stelara']*count)\n",
    "print('new len of reviews: {} and new length of med_name: {}'.format(len(reviews), len(med_name)))"
   ]
  },
  {
   "cell_type": "markdown",
   "id": "02c1141c",
   "metadata": {},
   "source": [
    "### 4. Methotrexate"
   ]
  },
  {
   "cell_type": "code",
   "execution_count": 17,
   "id": "3c0e87a1",
   "metadata": {},
   "outputs": [
    {
     "name": "stdout",
     "output_type": "stream",
     "text": [
      "new len of reviews: 389 and new length of med_name: 389\n"
     ]
    }
   ],
   "source": [
    "# Methotrexate review collection\n",
    "count = 0 \n",
    "links = [\"https://www.drugs.com/comments/methotrexate/for-psoriasis.html\",\n",
    "        \"https://www.drugs.com/comments/methotrexate/for-psoriasis.html?page=2\",\n",
    "        \"https://www.drugs.com/comments/methotrexate/for-psoriasis.html?page=3\",\n",
    "        \"https://www.drugs.com/comments/methotrexate/for-psoriasis.html?page=4\"]\n",
    "\n",
    "for i in range(len(links)):\n",
    "    page = requests.get(links[i])\n",
    "    soup = bs(page.content, 'html.parser')\n",
    "\n",
    "    block = soup.find_all('div', class_='ddc-comment ddc-box ddc-mgb-2')\n",
    "    block_soup = bs(str(block), 'html.parser')\n",
    "    temp = get_review(block_soup)\n",
    "    count += len(temp)\n",
    "    reviews.extend(temp)\n",
    "reviews\n",
    "med_name.extend(['methotrexate']*count)\n",
    "print('new len of reviews: {} and new length of med_name: {}'.format(len(reviews), len(med_name)))"
   ]
  },
  {
   "cell_type": "markdown",
   "id": "4e045556",
   "metadata": {},
   "source": [
    "### 5. Triamcinolone"
   ]
  },
  {
   "cell_type": "code",
   "execution_count": 18,
   "id": "68a58830",
   "metadata": {},
   "outputs": [
    {
     "name": "stdout",
     "output_type": "stream",
     "text": [
      "new len of reviews: 411 and new length of med_name: 411\n"
     ]
    }
   ],
   "source": [
    "# Triamcinolone review collection\n",
    "count = 0 \n",
    "links = [\"https://www.drugs.com/comments/triamcinolone-topical/for-psoriasis.html\"]\n",
    "\n",
    "for i in range(len(links)):\n",
    "    page = requests.get(links[i])\n",
    "    soup = bs(page.content, 'html.parser')\n",
    "\n",
    "    block = soup.find_all('div', class_='ddc-comment ddc-box ddc-mgb-2')\n",
    "    block_soup = bs(str(block), 'html.parser')\n",
    "    temp = get_review(block_soup)\n",
    "    count += len(temp)\n",
    "    reviews.extend(temp)\n",
    "reviews\n",
    "med_name.extend(['triamcinolone']*count)\n",
    "print('new len of reviews: {} and new length of med_name: {}'.format(len(reviews), len(med_name)))"
   ]
  },
  {
   "cell_type": "markdown",
   "id": "90e63abb",
   "metadata": {},
   "source": [
    "### 6. Ustekinumab"
   ]
  },
  {
   "cell_type": "code",
   "execution_count": 19,
   "id": "839fc93c",
   "metadata": {},
   "outputs": [
    {
     "name": "stdout",
     "output_type": "stream",
     "text": [
      "new len of reviews: 536 and new length of med_name: 536\n"
     ]
    }
   ],
   "source": [
    "# Ustekinumab review collection\n",
    "count = 0 \n",
    "links = [\"https://www.drugs.com/comments/ustekinumab/for-psoriasis.html\",\n",
    "        \"https://www.drugs.com/comments/ustekinumab/for-psoriasis.html?page=2\",\n",
    "        \"https://www.drugs.com/comments/ustekinumab/for-psoriasis.html?page=3\",\n",
    "        \"https://www.drugs.com/comments/ustekinumab/for-psoriasis.html?page=4\",\n",
    "        \"https://www.drugs.com/comments/ustekinumab/for-psoriasis.html?page=5\",\n",
    "        \"https://www.drugs.com/comments/ustekinumab/for-psoriasis.html?page=6\"]\n",
    "\n",
    "for i in range(len(links)):\n",
    "    page = requests.get(links[i])\n",
    "    soup = bs(page.content, 'html.parser')\n",
    "\n",
    "    block = soup.find_all('div', class_='ddc-comment ddc-box ddc-mgb-2')\n",
    "    block_soup = bs(str(block), 'html.parser')\n",
    "    temp = get_review(block_soup)\n",
    "    count += len(temp)\n",
    "    reviews.extend(temp)\n",
    "reviews\n",
    "med_name.extend(['ustekinumab']*count)\n",
    "print('new len of reviews: {} and new length of med_name: {}'.format(len(reviews), len(med_name)))"
   ]
  },
  {
   "cell_type": "markdown",
   "id": "bc322f3a",
   "metadata": {},
   "source": [
    "### 7. Adalimumab"
   ]
  },
  {
   "cell_type": "code",
   "execution_count": 20,
   "id": "91840c2c",
   "metadata": {},
   "outputs": [
    {
     "name": "stdout",
     "output_type": "stream",
     "text": [
      "new len of reviews: 650 and new length of med_name: 650\n"
     ]
    }
   ],
   "source": [
    "# Adalimumab review collection\n",
    "count = 0 \n",
    "links = [\"https://www.drugs.com/comments/adalimumab/for-psoriasis.html\",\n",
    "         \"https://www.drugs.com/comments/adalimumab/for-psoriasis.html?page=2\",\n",
    "         \"https://www.drugs.com/comments/adalimumab/for-psoriasis.html?page=3\",\n",
    "         \"https://www.drugs.com/comments/adalimumab/for-psoriasis.html?page=4\",\n",
    "         \"https://www.drugs.com/comments/adalimumab/for-psoriasis.html?page=5\"]\n",
    "\n",
    "for i in range(len(links)):\n",
    "    page = requests.get(links[i])\n",
    "    soup = bs(page.content, 'html.parser')\n",
    "\n",
    "    block = soup.find_all('div', class_='ddc-comment ddc-box ddc-mgb-2')\n",
    "    block_soup = bs(str(block), 'html.parser')\n",
    "    temp = get_review(block_soup)\n",
    "    count += len(temp)\n",
    "    reviews.extend(temp)\n",
    "reviews\n",
    "med_name.extend(['adalimumab']*count)\n",
    "print('new len of reviews: {} and new length of med_name: {}'.format(len(reviews), len(med_name)))"
   ]
  },
  {
   "cell_type": "markdown",
   "id": "925b773d",
   "metadata": {},
   "source": [
    "### 8. Remicade"
   ]
  },
  {
   "cell_type": "code",
   "execution_count": 21,
   "id": "1f5b0cf2",
   "metadata": {},
   "outputs": [
    {
     "name": "stdout",
     "output_type": "stream",
     "text": [
      "new len of reviews: 655 and new length of med_name: 655\n"
     ]
    }
   ],
   "source": [
    "# Remicade review collection\n",
    "count = 0 \n",
    "links = [\"https://www.drugs.com/comments/infliximab/remicade-for-psoriasis.html\"]\n",
    "\n",
    "for i in range(len(links)):\n",
    "    page = requests.get(links[i])\n",
    "    soup = bs(page.content, 'html.parser')\n",
    "\n",
    "    block = soup.find_all('div', class_='ddc-comment ddc-box ddc-mgb-2')\n",
    "    block_soup = bs(str(block), 'html.parser')\n",
    "    temp = get_review(block_soup)\n",
    "    count += len(temp)\n",
    "    reviews.extend(temp)\n",
    "reviews\n",
    "med_name.extend(['remicade']*count)\n",
    "print('new len of reviews: {} and new length of med_name: {}'.format(len(reviews), len(med_name)))"
   ]
  },
  {
   "cell_type": "markdown",
   "id": "7ccd7efa",
   "metadata": {},
   "source": [
    "### 9. Cosentyx"
   ]
  },
  {
   "cell_type": "code",
   "execution_count": 22,
   "id": "560f3caf",
   "metadata": {},
   "outputs": [
    {
     "name": "stdout",
     "output_type": "stream",
     "text": [
      "new len of reviews: 664 and new length of med_name: 664\n"
     ]
    }
   ],
   "source": [
    "# Cosentyx review collection\n",
    "count = 0 \n",
    "links = [\"https://www.drugs.com/comments/secukinumab/cosentyx-for-psoriasis.html\"]\n",
    "\n",
    "for i in range(len(links)):\n",
    "    page = requests.get(links[i])\n",
    "    soup = bs(page.content, 'html.parser')\n",
    "\n",
    "    block = soup.find_all('div', class_='ddc-comment ddc-box ddc-mgb-2')\n",
    "    block_soup = bs(str(block), 'html.parser')\n",
    "    temp = get_review(block_soup)\n",
    "    count += len(temp)\n",
    "    reviews.extend(temp)\n",
    "reviews\n",
    "med_name.extend(['cosentyx']*count)\n",
    "print('new len of reviews: {} and new length of med_name: {}'.format(len(reviews), len(med_name)))"
   ]
  },
  {
   "cell_type": "markdown",
   "id": "29811c65",
   "metadata": {},
   "source": [
    "### 10. Skyrizi"
   ]
  },
  {
   "cell_type": "code",
   "execution_count": 23,
   "id": "506a44a3",
   "metadata": {},
   "outputs": [
    {
     "name": "stdout",
     "output_type": "stream",
     "text": [
      "new len of reviews: 668 and new length of med_name: 668\n"
     ]
    }
   ],
   "source": [
    "# Skyrizi review collection\n",
    "count = 0 \n",
    "links = [\"https://www.drugs.com/comments/risankizumab/skyrizi-for-psoriasis.html\"]\n",
    "\n",
    "for i in range(len(links)):\n",
    "    page = requests.get(links[i])\n",
    "    soup = bs(page.content, 'html.parser')\n",
    "\n",
    "    block = soup.find_all('div', class_='ddc-comment ddc-box ddc-mgb-2')\n",
    "    block_soup = bs(str(block), 'html.parser')\n",
    "    temp = get_review(block_soup)\n",
    "    count += len(temp)\n",
    "    reviews.extend(temp)\n",
    "reviews\n",
    "med_name.extend(['skyrizi']*count)\n",
    "print('new len of reviews: {} and new length of med_name: {}'.format(len(reviews), len(med_name)))"
   ]
  },
  {
   "cell_type": "markdown",
   "id": "94712998",
   "metadata": {},
   "source": [
    "### 11. Taltz"
   ]
  },
  {
   "cell_type": "code",
   "execution_count": 24,
   "id": "4860cf38",
   "metadata": {},
   "outputs": [
    {
     "name": "stdout",
     "output_type": "stream",
     "text": [
      "new len of reviews: 685 and new length of med_name: 685\n"
     ]
    }
   ],
   "source": [
    "# Taltz review collection\n",
    "count = 0 \n",
    "links = [\"https://www.drugs.com/comments/ixekizumab/taltz-for-psoriasis.html\"]\n",
    "\n",
    "for i in range(len(links)):\n",
    "    page = requests.get(links[i])\n",
    "    soup = bs(page.content, 'html.parser')\n",
    "\n",
    "    block = soup.find_all('div', class_='ddc-comment ddc-box ddc-mgb-2')\n",
    "    block_soup = bs(str(block), 'html.parser')\n",
    "    temp = get_review(block_soup)\n",
    "    count += len(temp)\n",
    "    reviews.extend(temp)\n",
    "reviews\n",
    "med_name.extend(['taltz']*count)\n",
    "print('new len of reviews: {} and new length of med_name: {}'.format(len(reviews), len(med_name)))"
   ]
  },
  {
   "cell_type": "markdown",
   "id": "df1582d4",
   "metadata": {},
   "source": [
    "### 12. Etanercept"
   ]
  },
  {
   "cell_type": "code",
   "execution_count": 25,
   "id": "52597efe",
   "metadata": {},
   "outputs": [
    {
     "name": "stdout",
     "output_type": "stream",
     "text": [
      "new len of reviews: 714 and new length of med_name: 714\n"
     ]
    }
   ],
   "source": [
    "# Etanercept review collection\n",
    "count = 0 \n",
    "links = [\"https://www.drugs.com/comments/etanercept/for-psoriasis.html\",\n",
    "         \"https://www.drugs.com/comments/etanercept/for-psoriasis.html?page=2\"]\n",
    "\n",
    "for i in range(len(links)):\n",
    "    page = requests.get(links[i])\n",
    "    soup = bs(page.content, 'html.parser')\n",
    "\n",
    "    block = soup.find_all('div', class_='ddc-comment ddc-box ddc-mgb-2')\n",
    "    block_soup = bs(str(block), 'html.parser')\n",
    "    temp = get_review(block_soup)\n",
    "    count += len(temp)\n",
    "    reviews.extend(temp)\n",
    "reviews\n",
    "med_name.extend(['etanercept']*count)\n",
    "print('new len of reviews: {} and new length of med_name: {}'.format(len(reviews), len(med_name)))"
   ]
  },
  {
   "cell_type": "markdown",
   "id": "d1134d03",
   "metadata": {},
   "source": [
    "### 13. Guselkumab"
   ]
  },
  {
   "cell_type": "code",
   "execution_count": 26,
   "id": "7b2bfff3",
   "metadata": {},
   "outputs": [
    {
     "name": "stdout",
     "output_type": "stream",
     "text": [
      "new len of reviews: 728 and new length of med_name: 728\n"
     ]
    }
   ],
   "source": [
    "# Guselkumab review collection\n",
    "count = 0 \n",
    "links = [\"https://www.drugs.com/comments/guselkumab/for-psoriasis.html\"]\n",
    "\n",
    "for i in range(len(links)):\n",
    "    page = requests.get(links[i])\n",
    "    soup = bs(page.content, 'html.parser')\n",
    "\n",
    "    block = soup.find_all('div', class_='ddc-comment ddc-box ddc-mgb-2')\n",
    "    block_soup = bs(str(block), 'html.parser')\n",
    "    temp = get_review(block_soup)\n",
    "    count += len(temp)\n",
    "    reviews.extend(temp)\n",
    "reviews\n",
    "med_name.extend(['guselkumab']*count)\n",
    "print('new len of reviews: {} and new length of med_name: {}'.format(len(reviews), len(med_name)))"
   ]
  },
  {
   "cell_type": "markdown",
   "id": "dd0192af",
   "metadata": {},
   "source": [
    "### 14. Ixekizumab"
   ]
  },
  {
   "cell_type": "code",
   "execution_count": 27,
   "id": "7fc5182c",
   "metadata": {},
   "outputs": [
    {
     "name": "stdout",
     "output_type": "stream",
     "text": [
      "new len of reviews: 746 and new length of med_name: 746\n"
     ]
    }
   ],
   "source": [
    "# Ixekizumab review collection\n",
    "count = 0 \n",
    "links = [\"https://www.drugs.com/comments/ixekizumab/for-psoriasis.html\"]\n",
    "\n",
    "for i in range(len(links)):\n",
    "    page = requests.get(links[i])\n",
    "    soup = bs(page.content, 'html.parser')\n",
    "\n",
    "    block = soup.find_all('div', class_='ddc-comment ddc-box ddc-mgb-2')\n",
    "    block_soup = bs(str(block), 'html.parser')\n",
    "    temp = get_review(block_soup)\n",
    "    count += len(temp)\n",
    "    reviews.extend(temp)\n",
    "reviews\n",
    "med_name.extend(['ixekizumab']*count)\n",
    "print('new len of reviews: {} and new length of med_name: {}'.format(len(reviews), len(med_name)))"
   ]
  },
  {
   "cell_type": "markdown",
   "id": "de406a6b",
   "metadata": {},
   "source": [
    "### 15. Tremfya"
   ]
  },
  {
   "cell_type": "code",
   "execution_count": 28,
   "id": "b9f680e4",
   "metadata": {},
   "outputs": [
    {
     "name": "stdout",
     "output_type": "stream",
     "text": [
      "new len of reviews: 759 and new length of med_name: 759\n"
     ]
    }
   ],
   "source": [
    "# Tremfya review collection\n",
    "count = 0 \n",
    "links = [\"https://www.drugs.com/comments/guselkumab/tremfya-for-psoriasis.html\"]\n",
    "\n",
    "for i in range(len(links)):\n",
    "    page = requests.get(links[i])\n",
    "    soup = bs(page.content, 'html.parser')\n",
    "\n",
    "    block = soup.find_all('div', class_='ddc-comment ddc-box ddc-mgb-2')\n",
    "    block_soup = bs(str(block), 'html.parser')\n",
    "    temp = get_review(block_soup)\n",
    "    count += len(temp)\n",
    "    reviews.extend(temp)\n",
    "reviews\n",
    "med_name.extend(['tremfya']*count)\n",
    "print('new len of reviews: {} and new length of med_name: {}'.format(len(reviews), len(med_name)))"
   ]
  },
  {
   "cell_type": "markdown",
   "id": "94008c34",
   "metadata": {},
   "source": [
    "# Making the Data Frame:"
   ]
  },
  {
   "cell_type": "code",
   "execution_count": 29,
   "id": "f98dc825",
   "metadata": {
    "scrolled": false
   },
   "outputs": [
    {
     "data": {
      "text/html": [
       "<div>\n",
       "<style scoped>\n",
       "    .dataframe tbody tr th:only-of-type {\n",
       "        vertical-align: middle;\n",
       "    }\n",
       "\n",
       "    .dataframe tbody tr th {\n",
       "        vertical-align: top;\n",
       "    }\n",
       "\n",
       "    .dataframe thead th {\n",
       "        text-align: right;\n",
       "    }\n",
       "</style>\n",
       "<table border=\"1\" class=\"dataframe\">\n",
       "  <thead>\n",
       "    <tr style=\"text-align: right;\">\n",
       "      <th></th>\n",
       "      <th>Drug_Name</th>\n",
       "      <th>Review</th>\n",
       "    </tr>\n",
       "  </thead>\n",
       "  <tbody>\n",
       "    <tr>\n",
       "      <th>0</th>\n",
       "      <td>clobetasol</td>\n",
       "      <td>I have had moderate and sometimes severe plaqu...</td>\n",
       "    </tr>\n",
       "    <tr>\n",
       "      <th>1</th>\n",
       "      <td>clobetasol</td>\n",
       "      <td>I would use clobex on my thick plaque psoriasi...</td>\n",
       "    </tr>\n",
       "    <tr>\n",
       "      <th>2</th>\n",
       "      <td>clobetasol</td>\n",
       "      <td>CLOBEX IS AMAZING.  It doesn't cure psoriasis ...</td>\n",
       "    </tr>\n",
       "    <tr>\n",
       "      <th>3</th>\n",
       "      <td>clobetasol</td>\n",
       "      <td>I used this medication as directed and it comp...</td>\n",
       "    </tr>\n",
       "    <tr>\n",
       "      <th>4</th>\n",
       "      <td>clobetasol</td>\n",
       "      <td>I have used Clobex for many years.  It is the ...</td>\n",
       "    </tr>\n",
       "    <tr>\n",
       "      <th>...</th>\n",
       "      <td>...</td>\n",
       "      <td>...</td>\n",
       "    </tr>\n",
       "    <tr>\n",
       "      <th>754</th>\n",
       "      <td>tremfya</td>\n",
       "      <td>Hi, Ive been on steroids few times in past 10 ...</td>\n",
       "    </tr>\n",
       "    <tr>\n",
       "      <th>755</th>\n",
       "      <td>tremfya</td>\n",
       "      <td>15 mo on Tremfya for Psoriasis\\n \\nPros: confi...</td>\n",
       "    </tr>\n",
       "    <tr>\n",
       "      <th>756</th>\n",
       "      <td>tremfya</td>\n",
       "      <td>I have a severe case of psoriasis only on the ...</td>\n",
       "    </tr>\n",
       "    <tr>\n",
       "      <th>757</th>\n",
       "      <td>tremfya</td>\n",
       "      <td>I feel like just so awful! Very sick with pain...</td>\n",
       "    </tr>\n",
       "    <tr>\n",
       "      <th>758</th>\n",
       "      <td>tremfya</td>\n",
       "      <td>I have been on Tremfya for about a year. What ...</td>\n",
       "    </tr>\n",
       "  </tbody>\n",
       "</table>\n",
       "<p>759 rows × 2 columns</p>\n",
       "</div>"
      ],
      "text/plain": [
       "      Drug_Name                                             Review\n",
       "0    clobetasol  I have had moderate and sometimes severe plaqu...\n",
       "1    clobetasol  I would use clobex on my thick plaque psoriasi...\n",
       "2    clobetasol  CLOBEX IS AMAZING.  It doesn't cure psoriasis ...\n",
       "3    clobetasol  I used this medication as directed and it comp...\n",
       "4    clobetasol  I have used Clobex for many years.  It is the ...\n",
       "..          ...                                                ...\n",
       "754     tremfya  Hi, Ive been on steroids few times in past 10 ...\n",
       "755     tremfya  15 mo on Tremfya for Psoriasis\\n \\nPros: confi...\n",
       "756     tremfya  I have a severe case of psoriasis only on the ...\n",
       "757     tremfya  I feel like just so awful! Very sick with pain...\n",
       "758     tremfya  I have been on Tremfya for about a year. What ...\n",
       "\n",
       "[759 rows x 2 columns]"
      ]
     },
     "execution_count": 29,
     "metadata": {},
     "output_type": "execute_result"
    }
   ],
   "source": [
    "dict_ = {'Drug_Name':med_name,'Review':reviews}\n",
    "drug_df = pd.DataFrame(dict_)\n",
    "drug_df"
   ]
  },
  {
   "cell_type": "code",
   "execution_count": 30,
   "id": "f476c323",
   "metadata": {},
   "outputs": [
    {
     "data": {
      "text/html": [
       "<div>\n",
       "<style scoped>\n",
       "    .dataframe tbody tr th:only-of-type {\n",
       "        vertical-align: middle;\n",
       "    }\n",
       "\n",
       "    .dataframe tbody tr th {\n",
       "        vertical-align: top;\n",
       "    }\n",
       "\n",
       "    .dataframe thead th {\n",
       "        text-align: right;\n",
       "    }\n",
       "</style>\n",
       "<table border=\"1\" class=\"dataframe\">\n",
       "  <thead>\n",
       "    <tr style=\"text-align: right;\">\n",
       "      <th></th>\n",
       "      <th>Drug_Name</th>\n",
       "      <th>Review</th>\n",
       "    </tr>\n",
       "  </thead>\n",
       "  <tbody>\n",
       "    <tr>\n",
       "      <th>0</th>\n",
       "      <td>clobetasol</td>\n",
       "      <td>I have had moderate and sometimes severe plaqu...</td>\n",
       "    </tr>\n",
       "    <tr>\n",
       "      <th>1</th>\n",
       "      <td>clobetasol</td>\n",
       "      <td>I would use clobex on my thick plaque psoriasi...</td>\n",
       "    </tr>\n",
       "    <tr>\n",
       "      <th>2</th>\n",
       "      <td>clobetasol</td>\n",
       "      <td>CLOBEX IS AMAZING.  It doesn't cure psoriasis ...</td>\n",
       "    </tr>\n",
       "    <tr>\n",
       "      <th>3</th>\n",
       "      <td>clobetasol</td>\n",
       "      <td>I used this medication as directed and it comp...</td>\n",
       "    </tr>\n",
       "    <tr>\n",
       "      <th>4</th>\n",
       "      <td>clobetasol</td>\n",
       "      <td>I have used Clobex for many years.  It is the ...</td>\n",
       "    </tr>\n",
       "  </tbody>\n",
       "</table>\n",
       "</div>"
      ],
      "text/plain": [
       "    Drug_Name                                             Review\n",
       "0  clobetasol  I have had moderate and sometimes severe plaqu...\n",
       "1  clobetasol  I would use clobex on my thick plaque psoriasi...\n",
       "2  clobetasol  CLOBEX IS AMAZING.  It doesn't cure psoriasis ...\n",
       "3  clobetasol  I used this medication as directed and it comp...\n",
       "4  clobetasol  I have used Clobex for many years.  It is the ..."
      ]
     },
     "execution_count": 30,
     "metadata": {},
     "output_type": "execute_result"
    }
   ],
   "source": [
    "# saving the file in the csv format.\n",
    "drug_df.to_csv('./drug.csv', index=False)\n",
    "test_df = pd.read_csv('./drug.csv')\n",
    "test_df.head()"
   ]
  }
 ],
 "metadata": {
  "kernelspec": {
   "display_name": "Python 3",
   "language": "python",
   "name": "python3"
  },
  "language_info": {
   "codemirror_mode": {
    "name": "ipython",
    "version": 3
   },
   "file_extension": ".py",
   "mimetype": "text/x-python",
   "name": "python",
   "nbconvert_exporter": "python",
   "pygments_lexer": "ipython3",
   "version": "3.8.8"
  }
 },
 "nbformat": 4,
 "nbformat_minor": 5
}
